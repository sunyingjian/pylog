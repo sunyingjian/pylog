{
 "cells": [
  {
   "cell_type": "code",
   "execution_count": 42,
   "metadata": {},
   "outputs": [],
   "source": [
    "import pandas as pd\n",
    "import numpy as np\n",
    "import tensorflow as tf\n",
    "\n",
    "\n",
    "train_data = pd.read_csv('../data/train_data.csv')\n",
    "test_data = pd.read_csv('../data/blind_data.csv')"
   ]
  },
  {
   "cell_type": "code",
   "execution_count": 55,
   "metadata": {},
   "outputs": [
    {
     "data": {
      "text/html": [
       "<div>\n",
       "<style scoped>\n",
       "    .dataframe tbody tr th:only-of-type {\n",
       "        vertical-align: middle;\n",
       "    }\n",
       "\n",
       "    .dataframe tbody tr th {\n",
       "        vertical-align: top;\n",
       "    }\n",
       "\n",
       "    .dataframe thead th {\n",
       "        text-align: right;\n",
       "    }\n",
       "</style>\n",
       "<table border=\"1\" class=\"dataframe\">\n",
       "  <thead>\n",
       "    <tr style=\"text-align: right;\">\n",
       "      <th></th>\n",
       "      <th>Unnamed: 0</th>\n",
       "      <th>Formation</th>\n",
       "      <th>Well Name</th>\n",
       "      <th>Depth</th>\n",
       "      <th>GR</th>\n",
       "      <th>ILD_log10</th>\n",
       "      <th>DeltaPHI</th>\n",
       "      <th>PHIND</th>\n",
       "      <th>PE</th>\n",
       "      <th>NM_M</th>\n",
       "      <th>RELPOS</th>\n",
       "      <th>Facies</th>\n",
       "    </tr>\n",
       "  </thead>\n",
       "  <tbody>\n",
       "    <tr>\n",
       "      <th>0</th>\n",
       "      <td>0</td>\n",
       "      <td>A1 SH</td>\n",
       "      <td>STUART</td>\n",
       "      <td>2808.0</td>\n",
       "      <td>66.276</td>\n",
       "      <td>0.630</td>\n",
       "      <td>3.300</td>\n",
       "      <td>10.650</td>\n",
       "      <td>3.591</td>\n",
       "      <td>1</td>\n",
       "      <td>1.000</td>\n",
       "      <td>3</td>\n",
       "    </tr>\n",
       "    <tr>\n",
       "      <th>1</th>\n",
       "      <td>1</td>\n",
       "      <td>A1 SH</td>\n",
       "      <td>STUART</td>\n",
       "      <td>2808.5</td>\n",
       "      <td>77.252</td>\n",
       "      <td>0.585</td>\n",
       "      <td>6.500</td>\n",
       "      <td>11.950</td>\n",
       "      <td>3.341</td>\n",
       "      <td>1</td>\n",
       "      <td>0.978</td>\n",
       "      <td>3</td>\n",
       "    </tr>\n",
       "    <tr>\n",
       "      <th>2</th>\n",
       "      <td>2</td>\n",
       "      <td>A1 SH</td>\n",
       "      <td>STUART</td>\n",
       "      <td>2809.0</td>\n",
       "      <td>82.899</td>\n",
       "      <td>0.566</td>\n",
       "      <td>9.400</td>\n",
       "      <td>13.600</td>\n",
       "      <td>3.064</td>\n",
       "      <td>1</td>\n",
       "      <td>0.956</td>\n",
       "      <td>3</td>\n",
       "    </tr>\n",
       "    <tr>\n",
       "      <th>3</th>\n",
       "      <td>3</td>\n",
       "      <td>A1 SH</td>\n",
       "      <td>STUART</td>\n",
       "      <td>2809.5</td>\n",
       "      <td>80.671</td>\n",
       "      <td>0.593</td>\n",
       "      <td>9.500</td>\n",
       "      <td>13.250</td>\n",
       "      <td>2.977</td>\n",
       "      <td>1</td>\n",
       "      <td>0.933</td>\n",
       "      <td>3</td>\n",
       "    </tr>\n",
       "    <tr>\n",
       "      <th>4</th>\n",
       "      <td>4</td>\n",
       "      <td>A1 SH</td>\n",
       "      <td>STUART</td>\n",
       "      <td>2810.0</td>\n",
       "      <td>75.971</td>\n",
       "      <td>0.638</td>\n",
       "      <td>8.700</td>\n",
       "      <td>12.350</td>\n",
       "      <td>3.020</td>\n",
       "      <td>1</td>\n",
       "      <td>0.911</td>\n",
       "      <td>3</td>\n",
       "    </tr>\n",
       "    <tr>\n",
       "      <th>...</th>\n",
       "      <td>...</td>\n",
       "      <td>...</td>\n",
       "      <td>...</td>\n",
       "      <td>...</td>\n",
       "      <td>...</td>\n",
       "      <td>...</td>\n",
       "      <td>...</td>\n",
       "      <td>...</td>\n",
       "      <td>...</td>\n",
       "      <td>...</td>\n",
       "      <td>...</td>\n",
       "      <td>...</td>\n",
       "    </tr>\n",
       "    <tr>\n",
       "      <th>825</th>\n",
       "      <td>825</td>\n",
       "      <td>C SH</td>\n",
       "      <td>CRAWFORD</td>\n",
       "      <td>3158.5</td>\n",
       "      <td>86.078</td>\n",
       "      <td>0.554</td>\n",
       "      <td>5.040</td>\n",
       "      <td>16.150</td>\n",
       "      <td>3.161</td>\n",
       "      <td>1</td>\n",
       "      <td>0.639</td>\n",
       "      <td>3</td>\n",
       "    </tr>\n",
       "    <tr>\n",
       "      <th>826</th>\n",
       "      <td>826</td>\n",
       "      <td>C SH</td>\n",
       "      <td>CRAWFORD</td>\n",
       "      <td>3159.0</td>\n",
       "      <td>88.855</td>\n",
       "      <td>0.539</td>\n",
       "      <td>5.560</td>\n",
       "      <td>16.750</td>\n",
       "      <td>3.118</td>\n",
       "      <td>1</td>\n",
       "      <td>0.611</td>\n",
       "      <td>3</td>\n",
       "    </tr>\n",
       "    <tr>\n",
       "      <th>827</th>\n",
       "      <td>827</td>\n",
       "      <td>C SH</td>\n",
       "      <td>CRAWFORD</td>\n",
       "      <td>3159.5</td>\n",
       "      <td>90.490</td>\n",
       "      <td>0.530</td>\n",
       "      <td>6.360</td>\n",
       "      <td>16.780</td>\n",
       "      <td>3.168</td>\n",
       "      <td>1</td>\n",
       "      <td>0.583</td>\n",
       "      <td>3</td>\n",
       "    </tr>\n",
       "    <tr>\n",
       "      <th>828</th>\n",
       "      <td>828</td>\n",
       "      <td>C SH</td>\n",
       "      <td>CRAWFORD</td>\n",
       "      <td>3160.0</td>\n",
       "      <td>90.975</td>\n",
       "      <td>0.522</td>\n",
       "      <td>7.035</td>\n",
       "      <td>16.995</td>\n",
       "      <td>3.154</td>\n",
       "      <td>1</td>\n",
       "      <td>0.556</td>\n",
       "      <td>3</td>\n",
       "    </tr>\n",
       "    <tr>\n",
       "      <th>829</th>\n",
       "      <td>829</td>\n",
       "      <td>C SH</td>\n",
       "      <td>CRAWFORD</td>\n",
       "      <td>3160.5</td>\n",
       "      <td>90.108</td>\n",
       "      <td>0.513</td>\n",
       "      <td>7.505</td>\n",
       "      <td>17.595</td>\n",
       "      <td>3.125</td>\n",
       "      <td>1</td>\n",
       "      <td>0.528</td>\n",
       "      <td>3</td>\n",
       "    </tr>\n",
       "  </tbody>\n",
       "</table>\n",
       "<p>830 rows × 12 columns</p>\n",
       "</div>"
      ],
      "text/plain": [
       "     Unnamed: 0 Formation Well Name   Depth      GR  ILD_log10  DeltaPHI  \\\n",
       "0             0     A1 SH    STUART  2808.0  66.276      0.630     3.300   \n",
       "1             1     A1 SH    STUART  2808.5  77.252      0.585     6.500   \n",
       "2             2     A1 SH    STUART  2809.0  82.899      0.566     9.400   \n",
       "3             3     A1 SH    STUART  2809.5  80.671      0.593     9.500   \n",
       "4             4     A1 SH    STUART  2810.0  75.971      0.638     8.700   \n",
       "..          ...       ...       ...     ...     ...        ...       ...   \n",
       "825         825      C SH  CRAWFORD  3158.5  86.078      0.554     5.040   \n",
       "826         826      C SH  CRAWFORD  3159.0  88.855      0.539     5.560   \n",
       "827         827      C SH  CRAWFORD  3159.5  90.490      0.530     6.360   \n",
       "828         828      C SH  CRAWFORD  3160.0  90.975      0.522     7.035   \n",
       "829         829      C SH  CRAWFORD  3160.5  90.108      0.513     7.505   \n",
       "\n",
       "      PHIND     PE  NM_M  RELPOS  Facies  \n",
       "0    10.650  3.591     1   1.000       3  \n",
       "1    11.950  3.341     1   0.978       3  \n",
       "2    13.600  3.064     1   0.956       3  \n",
       "3    13.250  2.977     1   0.933       3  \n",
       "4    12.350  3.020     1   0.911       3  \n",
       "..      ...    ...   ...     ...     ...  \n",
       "825  16.150  3.161     1   0.639       3  \n",
       "826  16.750  3.118     1   0.611       3  \n",
       "827  16.780  3.168     1   0.583       3  \n",
       "828  16.995  3.154     1   0.556       3  \n",
       "829  17.595  3.125     1   0.528       3  \n",
       "\n",
       "[830 rows x 12 columns]"
      ]
     },
     "execution_count": 55,
     "metadata": {},
     "output_type": "execute_result"
    }
   ],
   "source": [
    "test_data"
   ]
  },
  {
   "cell_type": "code",
   "execution_count": 58,
   "metadata": {},
   "outputs": [],
   "source": [
    "x = np.array(train_data.drop(['Facies','Formation','Well Name','Depth','NM_M','RELPOS'], axis=1))"
   ]
  },
  {
   "cell_type": "code",
   "execution_count": 46,
   "metadata": {},
   "outputs": [],
   "source": [
    "x_test = np.array(test_data.drop(['Facies','Formation','Well Name','Depth','NM_M','RELPOS'], axis=1))"
   ]
  },
  {
   "cell_type": "code",
   "execution_count": 60,
   "metadata": {},
   "outputs": [
    {
     "data": {
      "text/plain": [
       "array([[0.0000e+00, 6.6276e+01, 6.3000e-01, 3.3000e+00, 1.0650e+01,\n",
       "        3.5910e+00],\n",
       "       [1.0000e+00, 7.7252e+01, 5.8500e-01, 6.5000e+00, 1.1950e+01,\n",
       "        3.3410e+00],\n",
       "       [2.0000e+00, 8.2899e+01, 5.6600e-01, 9.4000e+00, 1.3600e+01,\n",
       "        3.0640e+00],\n",
       "       ...,\n",
       "       [8.2700e+02, 9.0490e+01, 5.3000e-01, 6.3600e+00, 1.6780e+01,\n",
       "        3.1680e+00],\n",
       "       [8.2800e+02, 9.0975e+01, 5.2200e-01, 7.0350e+00, 1.6995e+01,\n",
       "        3.1540e+00],\n",
       "       [8.2900e+02, 9.0108e+01, 5.1300e-01, 7.5050e+00, 1.7595e+01,\n",
       "        3.1250e+00]])"
      ]
     },
     "execution_count": 60,
     "metadata": {},
     "output_type": "execute_result"
    }
   ],
   "source": [
    "x_test"
   ]
  },
  {
   "cell_type": "code",
   "execution_count": 47,
   "metadata": {},
   "outputs": [],
   "source": [
    "y_train = np.array(train_data['Facies'].values)-1\n",
    "y_test = np.array(test_data['Facies'].values)-1"
   ]
  },
  {
   "cell_type": "code",
   "execution_count": 48,
   "metadata": {},
   "outputs": [
    {
     "data": {
      "text/plain": [
       "array([[0.0000e+00, 6.6276e+01, 6.3000e-01, 3.3000e+00, 1.0650e+01,\n",
       "        3.5910e+00],\n",
       "       [1.0000e+00, 7.7252e+01, 5.8500e-01, 6.5000e+00, 1.1950e+01,\n",
       "        3.3410e+00],\n",
       "       [2.0000e+00, 8.2899e+01, 5.6600e-01, 9.4000e+00, 1.3600e+01,\n",
       "        3.0640e+00],\n",
       "       ...,\n",
       "       [8.2700e+02, 9.0490e+01, 5.3000e-01, 6.3600e+00, 1.6780e+01,\n",
       "        3.1680e+00],\n",
       "       [8.2800e+02, 9.0975e+01, 5.2200e-01, 7.0350e+00, 1.6995e+01,\n",
       "        3.1540e+00],\n",
       "       [8.2900e+02, 9.0108e+01, 5.1300e-01, 7.5050e+00, 1.7595e+01,\n",
       "        3.1250e+00]])"
      ]
     },
     "execution_count": 48,
     "metadata": {},
     "output_type": "execute_result"
    }
   ],
   "source": [
    "x_test"
   ]
  },
  {
   "cell_type": "code",
   "execution_count": 22,
   "metadata": {},
   "outputs": [],
   "source": [
    "y_train=tf.keras.utils.to_categorical(y_train,9)\n",
    "y_test=tf.keras.utils.to_categorical(y_test,9)"
   ]
  },
  {
   "cell_type": "code",
   "execution_count": 23,
   "metadata": {},
   "outputs": [],
   "source": [
    "y_train = tf.keras.utils.to_categorical(y_train,9)\n",
    "y_test = tf.keras.utils.to_categorical(y_test,9)"
   ]
  },
  {
   "cell_type": "code",
   "execution_count": 26,
   "metadata": {},
   "outputs": [],
   "source": [
    "x_train = np.zeros_like(x)"
   ]
  },
  {
   "cell_type": "code",
   "execution_count": 29,
   "metadata": {},
   "outputs": [],
   "source": [
    "x_train[:,:] = x[:,:]"
   ]
  },
  {
   "cell_type": "code",
   "execution_count": 41,
   "metadata": {},
   "outputs": [
    {
     "data": {
      "text/plain": [
       "array([[0.0000e+00, 6.6276e+01, 6.3000e-01, 3.3000e+00, 1.0650e+01,\n",
       "        3.5910e+00],\n",
       "       [1.0000e+00, 7.7252e+01, 5.8500e-01, 6.5000e+00, 1.1950e+01,\n",
       "        3.3410e+00],\n",
       "       [2.0000e+00, 8.2899e+01, 5.6600e-01, 9.4000e+00, 1.3600e+01,\n",
       "        3.0640e+00],\n",
       "       ...,\n",
       "       [8.2700e+02, 9.0490e+01, 5.3000e-01, 6.3600e+00, 1.6780e+01,\n",
       "        3.1680e+00],\n",
       "       [8.2800e+02, 9.0975e+01, 5.2200e-01, 7.0350e+00, 1.6995e+01,\n",
       "        3.1540e+00],\n",
       "       [8.2900e+02, 9.0108e+01, 5.1300e-01, 7.5050e+00, 1.7595e+01,\n",
       "        3.1250e+00]])"
      ]
     },
     "execution_count": 41,
     "metadata": {},
     "output_type": "execute_result"
    }
   ],
   "source": [
    "x_test"
   ]
  },
  {
   "cell_type": "code",
   "execution_count": 39,
   "metadata": {},
   "outputs": [],
   "source": [
    "test_temp = x_test[:,:]"
   ]
  },
  {
   "cell_type": "code",
   "execution_count": 40,
   "metadata": {},
   "outputs": [],
   "source": [
    "x_test = np.zeros_like(test_temp)\n",
    "x_test[:,:] = test_temp[:,:]"
   ]
  }
 ],
 "metadata": {
  "interpreter": {
   "hash": "9b5fab0bfc6a61088100be202343908f32c84894c0f636577cb67619296e4603"
  },
  "kernelspec": {
   "display_name": "Python 3.9.0 64-bit",
   "language": "python",
   "name": "python3"
  },
  "language_info": {
   "codemirror_mode": {
    "name": "ipython",
    "version": 3
   },
   "file_extension": ".py",
   "mimetype": "text/x-python",
   "name": "python",
   "nbconvert_exporter": "python",
   "pygments_lexer": "ipython3",
   "version": "3.9.0"
  },
  "orig_nbformat": 4
 },
 "nbformat": 4,
 "nbformat_minor": 2
}
